{
 "cells": [
  {
   "cell_type": "markdown",
   "id": "68cadad7",
   "metadata": {},
   "source": [
    "TCP代理\n"
   ]
  },
  {
   "cell_type": "code",
   "execution_count": null,
   "id": "b899a80d",
   "metadata": {},
   "outputs": [],
   "source": [
    "import sys\n",
    "import socket \n",
    "import threading \n",
    "\n",
    "def server_loop(local_host, local_port, remote_host, remote_port, receieve_first):\n",
    "    \n",
    "    server = socket.socket(socket.AF_INET, socket,SOCK_STREAM)\n",
    "    \n",
    "    try:\n",
    "        server.bind(local_host, local_port)\n",
    "    except:\n",
    "        print(\"[!!] Failed to listen on %s:%d\" % (local_host, local_port))\n",
    "        print(\"[!!]Check for other listening sockets or correct permissions.\")\n",
    "        sys.exit(0)\n",
    "        \n",
    "    print(\"[*]Listening on %s:%d\" % (local_host, local_port))\n",
    "    \n",
    "    server.listen(5)\n",
    "    \n",
    "    while True:\n",
    "        client_socket, addr = server.accept()\n",
    "        \n",
    "        #打印出本地连接信息\n",
    "        print(\"[==>]Received incoming connection from %s:%d\" %(addr[0], addr[1]))\n",
    "        \n",
    "        #开启一个线程与远程主机通信\n",
    "        proxy_thread = threading.Thread(target=proxy_header, args=(client_socket, remote_host, remote_port, receive_first))\n",
    "        \n",
    "        proxy_thread.start()\n",
    "        \n",
    "def main():\n",
    "    if len(sys.argv[1:]) != 5:\n",
    "        print(\" Usage: ./proxy.py [localhost] [localport] [remotehost] [remoteport] [receive_first]\")\n",
    "        print(\" Example: ./proxy.py 127.0.0.1 9000 10.12.142.1 9000 True\")\n",
    "        sys.exit(0)\n",
    "        \n",
    "        local_host = sys.argv[1]\n",
    "        local_port = int(sys.argv[2])\n",
    "        \n",
    "        remote_host = sys.argv[3]\n",
    "        remote_port = int(sys.argv[4])\n",
    "        \n",
    "        #告诉代理在发送给远程主机前连接和接受数据\n",
    "        receive _first = sys.argv[5]\n",
    "        \n",
    "        if \"True\" in receive_first:\n",
    "            receive_first = True\n",
    "        else:\n",
    "            receive_first = False\n",
    "            \n",
    "            "
   ]
  }
 ],
 "metadata": {
  "kernelspec": {
   "display_name": "Python 3 (ipykernel)",
   "language": "python",
   "name": "python3"
  },
  "language_info": {
   "codemirror_mode": {
    "name": "ipython",
    "version": 3
   },
   "file_extension": ".py",
   "mimetype": "text/x-python",
   "name": "python",
   "nbconvert_exporter": "python",
   "pygments_lexer": "ipython3",
   "version": "3.10.7"
  }
 },
 "nbformat": 4,
 "nbformat_minor": 5
}
